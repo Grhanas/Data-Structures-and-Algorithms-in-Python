{
 "cells": [
  {
   "cell_type": "markdown",
   "metadata": {},
   "source": [
    "# 2.1 Object Oriented Design Goals"
   ]
  },
  {
   "cell_type": "markdown",
   "metadata": {},
   "source": [
    "<img src = \"pick_axe_clip.png\"/>"
   ]
  },
  {
   "cell_type": "markdown",
   "metadata": {},
   "source": [
    "## Robustness\n"
   ]
  },
  {
   "cell_type": "markdown",
   "metadata": {},
   "source": [
    "### A program produces the right output for all the anticipated inputs in the program’s application. In addition, we want software to be robust, that is, capable of handling unexpected inputs that are not explicitly defined for its application\n",
    "### Robustness is very important in life-critical applications. (Therac - 25 device can be researchable)"
   ]
  },
  {
   "cell_type": "markdown",
   "metadata": {},
   "source": [
    "## Adaptability\n"
   ]
  },
  {
   "cell_type": "markdown",
   "metadata": {},
   "source": [
    "### Modern software applications, such as Web browsers and Internet search engines, typically involve large programs that are used for many years. Adaptability is the ability of software to run with minimal change on different hardware and operating system platforms."
   ]
  },
  {
   "cell_type": "markdown",
   "metadata": {},
   "source": [
    "## Reusability"
   ]
  },
  {
   "cell_type": "markdown",
   "metadata": {},
   "source": [
    "### Reusability is, the same code should be usable as a component of different systems in various applications."
   ]
  },
  {
   "cell_type": "markdown",
   "metadata": {},
   "source": [
    "# Object-Oriented Design Principles"
   ]
  },
  {
   "cell_type": "markdown",
   "metadata": {},
   "source": [
    "<img src = \"modularity_abstraction_encapsulation.png\"/>"
   ]
  },
  {
   "cell_type": "markdown",
   "metadata": {},
   "source": [
    "## Modularity"
   ]
  },
  {
   "cell_type": "markdown",
   "metadata": {},
   "source": [
    "### Modularity refers to an organizing principle in which different components of a software system are divided into separate functional units.\n",
    "\n",
    "### As a real-world analogy, a house or apartment can be viewed as consisting of several interacting units: electrical, heating and cooling, plumbing, and structural. Rather than viewing these systems as one giant jumble of wires, vents, pipes, and boards, the organized architect designing a house or apartment will view them as separate modules that interact in well-defined ways.\n",
    "\n",
    "### It is easier to test and debug separate components."
   ]
  },
  {
   "cell_type": "markdown",
   "metadata": {},
   "source": [
    "## Abstraction"
   ]
  },
  {
   "cell_type": "markdown",
   "metadata": {},
   "source": [
    "### Abstract data types (ADTs) are a mathematical model of a data structure that specifies the type of data stored, the operations supported on them, and the types of parameters of the operations. An ADT specifies what each operation does, but not how it does it. We will typically refer to the collective set of behaviors supported by an ADT as its public interface (In chapter 6: Stacks, Queues are some of the abstract data type examples).\n",
    "\n",
    "### Python has a tradition of treating abstractions implicitly using a mechanism known as DUCK TYPING."
   ]
  },
  {
   "cell_type": "markdown",
   "metadata": {},
   "source": [
    "<img src = \"duck_typing.png\"/>"
   ]
  },
  {
   "cell_type": "markdown",
   "metadata": {},
   "source": [
    "### With DUCK TYPING"
   ]
  },
  {
   "cell_type": "code",
   "execution_count": 1,
   "metadata": {},
   "outputs": [
    {
     "name": "stdout",
     "output_type": "stream",
     "text": [
      "Miyav\n",
      "Hav\n",
      "Cik cik\n",
      "Bu nesne ses çıkaramaz.\n"
     ]
    }
   ],
   "source": [
    "class Kedi:\n",
    "    def ses_cikar(self):\n",
    "        return \"Miyav\"\n",
    "\n",
    "class Kopek:\n",
    "    def ses_cikar(self):\n",
    "        return \"Hav\"\n",
    "\n",
    "class Kus:\n",
    "    def ses_cikar(self):\n",
    "        return \"Cik cik\"\n",
    "\n",
    "def sesleri_cikar(hayvan):\n",
    "    try:\n",
    "        print(hayvan.ses_cikar())\n",
    "    except AttributeError:\n",
    "        print(\"Bu nesne ses çıkaramaz.\")\n",
    "\n",
    "hayvanlar = [Kedi(), Kopek(), Kus(), \"Yılan\"]\n",
    "\n",
    "for hayvan in hayvanlar:\n",
    "    sesleri_cikar(hayvan)"
   ]
  },
  {
   "cell_type": "markdown",
   "metadata": {},
   "source": [
    "### WITHOUT DUCK TYPING"
   ]
  },
  {
   "cell_type": "code",
   "execution_count": 2,
   "metadata": {},
   "outputs": [
    {
     "name": "stdout",
     "output_type": "stream",
     "text": [
      "Kedi sesi:  Miyav\n",
      "Köpek sesi:  Hav\n",
      "Kuş sesi:  Cik cik\n",
      "Bu nesne ses çıkaramaz veya tanınmıyor.\n"
     ]
    }
   ],
   "source": [
    "class Kedi:\n",
    "    def ses_cikar(self):\n",
    "        return \"Miyav\"\n",
    "\n",
    "class Kopek:\n",
    "    def ses_cikar(self):\n",
    "        return \"Hav\"\n",
    "\n",
    "class Kus:\n",
    "    def ses_cikar(self):\n",
    "        return \"Cik cik\"\n",
    "\n",
    "def sesleri_cikar(hayvan):\n",
    "    if isinstance(hayvan, Kedi):\n",
    "        print(\"Kedi sesi: \", hayvan.ses_cikar())\n",
    "    elif isinstance(hayvan, Kopek):\n",
    "        print(\"Köpek sesi: \", hayvan.ses_cikar())\n",
    "    elif isinstance(hayvan, Kus):\n",
    "        print(\"Kuş sesi: \", hayvan.ses_cikar())\n",
    "    else:\n",
    "        print(\"Bu nesne ses çıkaramaz veya tanınmıyor.\")\n",
    "\n",
    "hayvanlar = [Kedi(), Kopek(), Kus(), \"Yilan\"]\n",
    "\n",
    "for hayvan in hayvanlar:\n",
    "    sesleri_cikar(hayvan)"
   ]
  },
  {
   "cell_type": "markdown",
   "metadata": {},
   "source": [
    "### Python's dynamic structure"
   ]
  },
  {
   "cell_type": "code",
   "execution_count": 2,
   "metadata": {},
   "outputs": [
    {
     "name": "stdout",
     "output_type": "stream",
     "text": [
      "<class 'int'>\n",
      "<class 'str'>\n"
     ]
    }
   ],
   "source": [
    "x = 5\n",
    "print(type(x))\n",
    "x = 'Kagan'\n",
    "print(type(x))"
   ]
  },
  {
   "cell_type": "markdown",
   "metadata": {},
   "source": [
    "### Python, and no formal requirement for declarations of abstract base classes. Instead programmers assume that an object supports a set of known behaviors, with the interpreter raising a run-time error if those assumptions fail."
   ]
  },
  {
   "cell_type": "markdown",
   "metadata": {},
   "source": [
    "## "
   ]
  },
  {
   "cell_type": "markdown",
   "metadata": {},
   "source": [
    "<img src = \"collections.png\"/>"
   ]
  },
  {
   "cell_type": "markdown",
   "metadata": {},
   "source": [
    "<img src = \"uml_diagram.png\"/>"
   ]
  },
  {
   "cell_type": "markdown",
   "metadata": {},
   "source": [
    "### Using abstract method in code"
   ]
  },
  {
   "cell_type": "code",
   "execution_count": 9,
   "metadata": {},
   "outputs": [
    {
     "name": "stdout",
     "output_type": "stream",
     "text": [
      "Woof!\n",
      "Meow!\n",
      "Quack!\n"
     ]
    },
    {
     "ename": "TypeError",
     "evalue": "Can't instantiate abstract class Animal without an implementation for abstract method 'speak'",
     "output_type": "error",
     "traceback": [
      "\u001b[1;31m---------------------------------------------------------------------------\u001b[0m",
      "\u001b[1;31mTypeError\u001b[0m                                 Traceback (most recent call last)",
      "Cell \u001b[1;32mIn[9], line 32\u001b[0m\n\u001b[0;32m     29\u001b[0m \u001b[38;5;28mprint\u001b[39m(cat\u001b[38;5;241m.\u001b[39mspeak())  \u001b[38;5;66;03m# Çıktı: Meow!\u001b[39;00m\n\u001b[0;32m     30\u001b[0m \u001b[38;5;28mprint\u001b[39m(duck\u001b[38;5;241m.\u001b[39mspeak())  \u001b[38;5;66;03m# Çıktı: Quack!\u001b[39;00m\n\u001b[1;32m---> 32\u001b[0m animal \u001b[38;5;241m=\u001b[39m \u001b[43mAnimal\u001b[49m\u001b[43m(\u001b[49m\u001b[43m)\u001b[49m\n",
      "\u001b[1;31mTypeError\u001b[0m: Can't instantiate abstract class Animal without an implementation for abstract method 'speak'"
     ]
    }
   ],
   "source": [
    "from abc import ABC, abstractmethod\n",
    "\n",
    "class Animal(ABC):\n",
    "    @abstractmethod\n",
    "    def speak(self):\n",
    "        pass\n",
    "\n",
    "class Dog(Animal):\n",
    "    def speak(self):\n",
    "        return \"Woof!\"\n",
    "\n",
    "class Cat(Animal):\n",
    "    def speak(self):\n",
    "        return \"Meow!\"\n",
    "\n",
    "class Duck(Animal):\n",
    "    def speak(self):\n",
    "        return \"Quack!\"\n",
    "\n",
    "# Animal sınıfı soyut olduğu için doğrudan örneklenemez\n",
    "# animal = Animal()  # Bu satır hata verecektir\n",
    "\n",
    "# Alt sınıflar soyut metotları geçersiz kılmalıdır\n",
    "dog = Dog()\n",
    "cat = Cat()\n",
    "duck = Duck()\n",
    "\n",
    "print(dog.speak())  # Çıktı: Woof!\n",
    "print(cat.speak())  # Çıktı: Meow!\n",
    "print(duck.speak())  # Çıktı: Quack!\n",
    "\n",
    "animal = Animal()\n"
   ]
  },
  {
   "cell_type": "code",
   "execution_count": 13,
   "metadata": {},
   "outputs": [
    {
     "ename": "TypeError",
     "evalue": "Can't instantiate abstract class Dog without an implementation for abstract method 'speak'",
     "output_type": "error",
     "traceback": [
      "\u001b[1;31m---------------------------------------------------------------------------\u001b[0m",
      "\u001b[1;31mTypeError\u001b[0m                                 Traceback (most recent call last)",
      "Cell \u001b[1;32mIn[13], line 24\u001b[0m\n\u001b[0;32m     18\u001b[0m         \u001b[38;5;28;01mreturn\u001b[39;00m \u001b[38;5;124m\"\u001b[39m\u001b[38;5;124mQuack!\u001b[39m\u001b[38;5;124m\"\u001b[39m\n\u001b[0;32m     20\u001b[0m \u001b[38;5;66;03m# Animal sınıfı soyut olduğu için doğrudan örneklenemez\u001b[39;00m\n\u001b[0;32m     21\u001b[0m \u001b[38;5;66;03m# animal = Animal()  # Bu satır hata verecektir\u001b[39;00m\n\u001b[0;32m     22\u001b[0m \n\u001b[0;32m     23\u001b[0m \u001b[38;5;66;03m# Alt sınıflar soyut metotları geçersiz kılmalıdır\u001b[39;00m\n\u001b[1;32m---> 24\u001b[0m dog \u001b[38;5;241m=\u001b[39m \u001b[43mDog\u001b[49m\u001b[43m(\u001b[49m\u001b[43m)\u001b[49m\n\u001b[0;32m     25\u001b[0m cat \u001b[38;5;241m=\u001b[39m Cat()\n\u001b[0;32m     26\u001b[0m duck \u001b[38;5;241m=\u001b[39m Duck()\n",
      "\u001b[1;31mTypeError\u001b[0m: Can't instantiate abstract class Dog without an implementation for abstract method 'speak'"
     ]
    }
   ],
   "source": [
    "from abc import ABC, abstractmethod\n",
    "\n",
    "class Animal(ABC):\n",
    "    @abstractmethod\n",
    "    def speak(self):\n",
    "        pass\n",
    "\n",
    "class Dog(Animal):\n",
    "    def aaa(self):\n",
    "        return \"Woof!\"\n",
    "\n",
    "class Cat(Animal):\n",
    "    def aaa(self):\n",
    "        return \"Meow!\"\n",
    "\n",
    "class Duck(Animal):\n",
    "    def aaa(self):\n",
    "        return \"Quack!\"\n",
    "\n",
    "# Animal sınıfı soyut olduğu için doğrudan örneklenemez\n",
    "# animal = Animal()  # Bu satır hata verecektir\n",
    "\n",
    "# Alt sınıflar soyut metotları geçersiz kılmalıdır\n",
    "dog = Dog()\n",
    "cat = Cat()\n",
    "duck = Duck()\n",
    "\n",
    "print(dog.aaa())  # Çıktı: Woof!\n",
    "print(cat.aaa())  # Çıktı: Meow!\n",
    "print(duck.aaa())  # Çıktı: Quack!\n",
    "\n",
    "animal = Animal()\n"
   ]
  },
  {
   "cell_type": "code",
   "execution_count": 16,
   "metadata": {},
   "outputs": [
    {
     "name": "stdout",
     "output_type": "stream",
     "text": [
      "Woof!\n",
      "Meow!\n",
      "Quack!\n"
     ]
    }
   ],
   "source": [
    "from abc import ABC, abstractmethod\n",
    "\n",
    "class Animal(ABC):\n",
    "    @abstractmethod\n",
    "    def aaa(self):\n",
    "        print(\"aaaaaaa\")\n",
    "        pass\n",
    "\n",
    "class Dog(Animal):\n",
    "    def aaa(self):\n",
    "        return \"Woof!\"\n",
    "\n",
    "class Cat(Animal):\n",
    "    def aaa(self):\n",
    "        return \"Meow!\"\n",
    "\n",
    "class Duck(Animal):\n",
    "    def aaa(self):\n",
    "        return \"Quack!\"\n",
    "\n",
    "# Animal sınıfı soyut olduğu için doğrudan örneklenemez\n",
    "# animal = Animal()  # Bu satır hata verecektir\n",
    "\n",
    "# Alt sınıflar soyut metotları geçersiz kılmalıdır\n",
    "dog = Dog()\n",
    "cat = Cat()\n",
    "duck = Duck()\n",
    "\n",
    "print(dog.aaa())  # Çıktı: Woof!\n",
    "print(cat.aaa())  # Çıktı: Meow!\n",
    "print(duck.aaa())  # Çıktı: Quack!\n"
   ]
  },
  {
   "cell_type": "markdown",
   "metadata": {},
   "source": [
    "## Encapsulation"
   ]
  },
  {
   "cell_type": "markdown",
   "metadata": {},
   "source": [
    "<img src = \"encapsulation.webp\"/>"
   ]
  },
  {
   "cell_type": "markdown",
   "metadata": {},
   "source": [
    "### Encapsulation in Python design principles refers to bundling data attributes and methods together within a class and controlling access to them from outside, thereby promoting data abstraction and information hiding.\n",
    "\n",
    "### Different components of a software system should not reveal the internal details of their respective implementations.\n",
    "\n",
    "###  One of the main advantages of encapsulation is that it gives one programmer freedom to implement the details of a component, without concern that other programmers will be writing code that intricately depends on those internal decisions.\n",
    "\n",
    "### Encapsulation yields robustness and adaptability, for it allows the implementation details of parts of a program to change without adversely affecting other parts, thereby making it easier to fix bugs or add new functionality with relatively local changes to a component."
   ]
  },
  {
   "cell_type": "markdown",
   "metadata": {},
   "source": [
    "# 2.2 Software Development"
   ]
  },
  {
   "cell_type": "markdown",
   "metadata": {},
   "source": [
    "## 2.2.1 Design"
   ]
  },
  {
   "cell_type": "markdown",
   "metadata": {},
   "source": [
    "### Responsibilities:\n",
    "- Divide the work into different actors, each with a specific responsibility. Use action verbs to describe these responsibilities. These actors will form the classes for the program.\n",
    "\n",
    "### Independence:\n",
    "- Define the work for each class to be as independent from other classes as possible. Subdivide responsibilities so that each class has autonomy over some aspect of the program. Assign data (as instance variables) to the class that has jurisdiction over the actions requiring access to this data.\n",
    "\n",
    "### Behaviors:\n",
    "- Define the behaviors for each class carefully and precisely, so the consequences of each action performed by a class will be well understood by other classes interacting with it. These behaviors will define the methods that this class performs. The set of behaviors for a class forms the interface to the class, allowing other pieces of code to interact with objects from the class."
   ]
  },
  {
   "cell_type": "markdown",
   "metadata": {},
   "source": [
    "### CRC cards. Class-Responsibility-Collaborator (CRC)"
   ]
  },
  {
   "cell_type": "markdown",
   "metadata": {},
   "source": [
    "<img src = \"crc.png\"/>"
   ]
  },
  {
   "cell_type": "markdown",
   "metadata": {},
   "source": [
    "## 2.2.2 Pseudo - Code"
   ]
  },
  {
   "cell_type": "markdown",
   "metadata": {},
   "source": [
    "### Pseudo-code is designed for a human reader, not a computer, we can communicate high-level ideas, without being burdened with low-level implementation details.\n",
    "\n",
    "### https://peps.python.org/pep-0008/"
   ]
  },
  {
   "cell_type": "markdown",
   "metadata": {},
   "source": [
    "## 2.2.3 Coding Style and Documentation"
   ]
  },
  {
   "cell_type": "markdown",
   "metadata": {},
   "source": [
    "### Indentation and Spaces:\n",
    "- Python code blocks typically use 4 spaces for indentation, but in cases where space is limited (like in books), 2 spaces may be used to prevent margin overflow.\n",
    "- Tabs should be avoided because their display width varies across systems, and Python interprets tabs and spaces differently.\n",
    "\n",
    "### Naming Conventions:\n",
    "- Use meaningful names for identifiers that can be read aloud and reflect their action, responsibility, or data.\n",
    "- Class names (except Python's built-in classes) should be singular nouns capitalized in CamelCase (e.g., `Date`, `CreditCard`).\n",
    "- Function names, including class methods, should be lowercase with words separated by underscores (e.g., `make_payment`, `sqrt`).\n",
    "- Individual object identifiers (parameters, instance variables, local variables) should be lowercase nouns (e.g., `price`).\n",
    "- Constants are traditionally named with all capital letters and underscores to separate words (e.g., `MAX_SIZE`).\n",
    "- Identifiers starting with a single leading underscore (e.g., `_secret`) are for internal use within a class or module and are not part of the public interface.\n",
    "\n",
    "### Comments and Documentation:\n",
    "- Use comments to add meaning, explain ambiguous or confusing constructs.\n",
    "- In-line comments are indicated by `#`, suitable for quick explanations.\n",
    "- Multiline block comments are delimited by triple quotes (`\"\"\"`) and are used for more complex explanations.\n",
    "- Python supports docstrings, which are string literals as the first statement within modules, classes, or functions. Docstrings should be delimited with triple quotes and serve as formal documentation.\n",
    "- Docstrings summarize the purpose of the function or class and can include detailed descriptions of parameters and behaviors.\n",
    "- Docstrings are stored as part of the module, function, or class and can be accessed using `help()` in the Python interpreter or through tools like `pydoc`.\n",
    "- More guidelines for writing effective docstrings can be found at the [PEP 257](http://www.python.org/dev/peps/pep-0257/) page.\n",
    "\n",
    "These guidelines aim to enhance code clarity, maintainability, and interoperability, adhering to Python's conventions for naming, commenting, and documentation practices."
   ]
  },
  {
   "cell_type": "markdown",
   "metadata": {},
   "source": [
    "## 2.2.4  Testing and Debugging"
   ]
  },
  {
   "cell_type": "markdown",
   "metadata": {},
   "source": [
    "### Testing Strategies:\n",
    "- **Method Coverage**: Ensure every method of a class is tested at least once.\n",
    "- **Statement Coverage**: Aim to execute each code statement in the program at least once.\n",
    "- Consider testing special cases for inputs and data structures:\n",
    "  - For sorting methods, test cases like empty sequence, single element, all same elements, already sorted sequence, and reverse sorted sequence.\n",
    "  - Handle boundary cases for data structures, like inserting or removing at the beginning or end of a list.\n",
    "- Use handcrafted test suites and supplement with randomly generated inputs for comprehensive testing.\n",
    "\n",
    "### Testing Hierarchies:\n",
    "- **Dependencies and Hierarchy**: Components induce a hierarchy based on dependencies. A component A is above B if A depends on B.\n",
    "- **Top-Down Testing**: Proceed from higher-level components to lower-level ones, often using stubbing to replace lower-level components temporarily.\n",
    "- **Bottom-Up Testing**: Test lower-level components first, proceeding to higher-level ones, ensuring thorough unit testing where components are tested in isolation.\n",
    "\n",
    "### Automated Testing in Python:\n",
    "- Python supports automated testing with the `unittest` module:\n",
    "  - Group test cases into suites and execute them.\n",
    "  - Support for regression testing to ensure changes don't introduce new bugs in existing components.\n",
    "- Tests can be embedded in modules using conditional constructs (`if __name__ == \"__main__\":`) to run specific tests when the module is executed directly.\n",
    "\n",
    "### Debugging Techniques:\n",
    "- **Print Statements**: Basic debugging technique to track variable values during program execution.\n",
    "- **Debugger**: Use a debugger like `pdb` (Python Debugger):\n",
    "  - Set breakpoints to pause execution and inspect variable values.\n",
    "  - Integrated into Python interpreter and available in most Python IDEs like IDLE.\n",
    "\n",
    "### Conclusion:\n",
    "Effective testing involves comprehensive coverage of methods and statements, consideration of special cases, and systematic testing from top-down or bottom-up approaches. Python's `unittest` module facilitates automated testing and regression testing, while debugging tools like `pdb` provide detailed inspection capabilities during program execution. These practices ensure code reliability and help identify and resolve issues efficiently during development."
   ]
  },
  {
   "cell_type": "markdown",
   "metadata": {},
   "source": [
    "# 2.3 Class Definitions"
   ]
  },
  {
   "cell_type": "markdown",
   "metadata": {},
   "source": [
    "### User of class should not directly access _members. This situation is related to encapsulation. If the variable is used only within the class, it is preceded by \"__\". We can see this below (_customer, _bank...). It can be useful researching dunder methods in Chapter 1."
   ]
  },
  {
   "cell_type": "code",
   "execution_count": 1,
   "metadata": {},
   "outputs": [
    {
     "name": "stdout",
     "output_type": "stream",
     "text": [
      "Customer = John Bowman\n",
      "Bank = California Savings\n",
      "Account = 5391 0375 9387 5309\n",
      "Limit = 2500\n",
      "Balance = 136\n",
      "Customer = John Bowman\n",
      "Bank = California Federal\n",
      "Account = 3485 0399 3395 1954\n",
      "Limit = 3500\n",
      "Balance = 272\n",
      "Customer = John Bowman\n",
      "Bank = California Finance\n",
      "Account = 5391 0375 9387 5309\n",
      "Limit = 5000\n",
      "Balance = 408\n",
      "New balance = 308\n",
      "New balance = 208\n",
      "New balance = 108\n",
      "New balance = 8\n"
     ]
    }
   ],
   "source": [
    "class CreditCard:\n",
    "# A consumer credit card.\n",
    "\n",
    "    def __init__(self, customer, bank, acnt, limit):\n",
    "        # Create a new credit card instance.\n",
    "        # The initial balance is zero.\n",
    "\n",
    "        # customer the name of the customer (e.g., John Bowman )\n",
    "        # bank the name of the bank (e.g., California Savings )\n",
    "        # acnt the acount identifier (e.g., 5391 0375 9387 5309 )\n",
    "        # limit credit limit (measured in dollars)\n",
    "\n",
    "        self._customer = customer \n",
    "        self._bank = bank\n",
    "        self._account = acnt\n",
    "        self._limit = limit\n",
    "        self._balance = 0\n",
    "\n",
    "    def get_customer(self):\n",
    "    # Return name of the customer.\n",
    "        return self._customer\n",
    "\n",
    "    def get_bank(self):\n",
    "    # Return the bank s name.\n",
    "        return self._bank\n",
    "\n",
    "    def get_account(self):\n",
    "    #Return the card identifying number (typically stored as a string).\n",
    "        return self._account\n",
    "\n",
    "    def get_limit(self):\n",
    "    # Return current credit limit.\n",
    "        return self._limit\n",
    "\n",
    "    def get_balance(self):\n",
    "    # Return current balance.\n",
    "        return self._balance\n",
    "    \n",
    "    def charge(self, price):\n",
    "    # Charge given price to the card, assuming sufficient credit limit.\n",
    "    # Return True if charge was processed; False if charge was denied.\n",
    "        if price + self._balance > self._limit: # if charge would exceed limit,\n",
    "            return False # cannot accept charge\n",
    "        else:\n",
    "            self._balance += price\n",
    "            return True\n",
    "        \n",
    "    def make_payment(self, amount):\n",
    "    #Process customer payment that reduces balance.\n",
    "        self._balance -= amount\n",
    "    \n",
    "# a = CreditCard(\"Kağan\", \"Akbank\", \"123123 123123 123 \", 59999)\n",
    "# print(a.get_customer())\n",
    "# type(a.get_bank())\n",
    "# print(a.get_balance())\n",
    "# print(type(a.get_balance))\n",
    "# help(a.get_balance)\n",
    "# print(a.get_balance())\n",
    "\n",
    "if __name__ == \"__main__\" :\n",
    "    wallet = []\n",
    "    wallet.append(CreditCard(\"John Bowman\" , \"California Savings\",\n",
    "    \"5391 0375 9387 5309\" , 2500) )\n",
    "    wallet.append(CreditCard(\"John Bowman\" , \"California Federal\",\n",
    "    \"3485 0399 3395 1954\" , 3500) )\n",
    "    wallet.append(CreditCard(\"John Bowman\" , \"California Finance\" ,\n",
    "    \"5391 0375 9387 5309\" , 5000) )\n",
    "\n",
    "    for val in range(1, 17):\n",
    "        wallet[0].charge(val)\n",
    "        wallet[1].charge(2*val)\n",
    "        wallet[2].charge(3*val)\n",
    "\n",
    "    for c in range(3):\n",
    "        print(\"Customer =\" , wallet[c].get_customer())\n",
    "        print(\"Bank =\" , wallet[c].get_bank())\n",
    "        print(\"Account =\" , wallet[c].get_account())\n",
    "        print(\"Limit =\" , wallet[c].get_limit())\n",
    "        print(\"Balance =\" , wallet[c].get_balance())\n",
    "\n",
    "    while wallet[c].get_balance() > 100:\n",
    "        wallet[c].make_payment(100)\n",
    "        print(\"New balance =\" , wallet[c].get_balance())"
   ]
  },
  {
   "cell_type": "markdown",
   "metadata": {},
   "source": [
    "## 2.3.2 Operator Overloading and Python's Special Methods"
   ]
  },
  {
   "cell_type": "code",
   "execution_count": 3,
   "metadata": {},
   "outputs": [
    {
     "name": "stdout",
     "output_type": "stream",
     "text": [
      "love melove melove me\n"
     ]
    }
   ],
   "source": [
    "print(3 * \"love me\")"
   ]
  },
  {
   "cell_type": "markdown",
   "metadata": {},
   "source": [
    "### In Python, built-in classes provide natural semantics for operators, like using + for addition or sequence concatenation. For new classes, operators like + are undefined by default but can be enabled through operator overloading by defining special methods, such as __add__ for +. When an operator is used with different types, Python prioritizes the left operand's class method but will check the right operand's class method (like __rmul__) if not found. This allows custom behavior and supports noncommutative operations (e.g., matrix multiplication)."
   ]
  },
  {
   "cell_type": "code",
   "execution_count": 4,
   "metadata": {},
   "outputs": [
    {
     "name": "stdout",
     "output_type": "stream",
     "text": [
      "3\n",
      "<class 'int'>\n",
      "-1\n",
      "2\n",
      "r'li -1\n",
      "NotImplemented\n",
      "<class 'NotImplementedType'>\n",
      "NotImplemented\n",
      "NotImplemented\n"
     ]
    },
    {
     "ename": "AttributeError",
     "evalue": "'str' object has no attribute '__rsub__'",
     "output_type": "error",
     "traceback": [
      "\u001b[1;31m---------------------------------------------------------------------------\u001b[0m",
      "\u001b[1;31mAttributeError\u001b[0m                            Traceback (most recent call last)",
      "Cell \u001b[1;32mIn[4], line 21\u001b[0m\n\u001b[0;32m     18\u001b[0m \u001b[38;5;28mprint\u001b[39m(a\u001b[38;5;241m.\u001b[39m\u001b[38;5;21m__sub__\u001b[39m(b))\n\u001b[0;32m     19\u001b[0m \u001b[38;5;28mprint\u001b[39m(a\u001b[38;5;241m.\u001b[39m\u001b[38;5;21m__mul__\u001b[39m(b))\n\u001b[1;32m---> 21\u001b[0m \u001b[38;5;28mprint\u001b[39m(\u001b[43mb\u001b[49m\u001b[38;5;241;43m.\u001b[39;49m\u001b[38;5;21;43m__rsub__\u001b[39;49m(a))\n\u001b[0;32m     22\u001b[0m \u001b[38;5;28mprint\u001b[39m(b\u001b[38;5;241m.\u001b[39m\u001b[38;5;21m__radd__\u001b[39m(a))\n",
      "\u001b[1;31mAttributeError\u001b[0m: 'str' object has no attribute '__rsub__'"
     ]
    }
   ],
   "source": [
    "a = 1\n",
    "b = 2\n",
    "\n",
    "print(a.__add__(b))\n",
    "print(type(a.__add__(b)))\n",
    "\n",
    "print(a.__sub__(b))\n",
    "print(a.__mul__(b))\n",
    "\n",
    "print(\"r'li\", b.__rsub__(a))\n",
    "\n",
    "a = 2\n",
    "b = \"Kagan\"\n",
    "\n",
    "print(a.__add__(b))\n",
    "print(type(a.__add__(b)))\n",
    "\n",
    "print(a.__sub__(b))\n",
    "print(a.__mul__(b))\n",
    "\n",
    "print(b.__rsub__(a))\n",
    "print(b.__radd__(a))\n",
    "\n"
   ]
  },
  {
   "cell_type": "code",
   "execution_count": 5,
   "metadata": {},
   "outputs": [
    {
     "name": "stdout",
     "output_type": "stream",
     "text": [
      "-4379346332195863023\n"
     ]
    }
   ],
   "source": [
    "a = \"aasdfasdf\"\n",
    "print(hash(a))"
   ]
  },
  {
   "cell_type": "markdown",
   "metadata": {},
   "source": [
    "### __eq__ == \"==\" or __eq__ == is\n",
    "\n",
    "### magic methods"
   ]
  },
  {
   "cell_type": "markdown",
   "metadata": {},
   "source": [
    "<img src = \"special_method_form.png\"/>"
   ]
  },
  {
   "cell_type": "markdown",
   "metadata": {},
   "source": [
    "### Python uses specially named methods in user-defined classes to control behaviors like string conversion, integer conversion, float conversion, and boolean evaluation, allowing the classes to integrate seamlessly with Python's built-in functionalities."
   ]
  },
  {
   "cell_type": "markdown",
   "metadata": {},
   "source": [
    "### Python operators require specific special methods to be implemented in a user-defined class to work, some operators have default implementations or are derived from others. Additionally, certain methods imply specific behaviors but do not automatically cover all related operations, so developers must provide comprehensive implementations for full functionality."
   ]
  },
  {
   "cell_type": "markdown",
   "metadata": {},
   "source": [
    "## 2.3.4 Iterators"
   ]
  },
  {
   "cell_type": "code",
   "execution_count": 19,
   "metadata": {},
   "outputs": [
    {
     "name": "stdout",
     "output_type": "stream",
     "text": [
      "1\n",
      "2\n",
      "3\n",
      "4\n",
      "1\n",
      "2\n",
      "3\n",
      "4\n"
     ]
    }
   ],
   "source": [
    "class SequenceIterator:\n",
    "\n",
    "    def __init__ (self, sequence):\n",
    "        self._seq = sequence # keep a reference to the underlying data\n",
    "        self._k = -1 # will increment to 0 on first call to next\n",
    "\n",
    "    def init (self, sequence):\n",
    "        self._seq = sequence # keep a reference to the underlying data\n",
    "        self._k = -1 # will increment to 0 on first call to next\n",
    "\n",
    "    def __next__ (self):\n",
    "        self._k += 1 # advance to next index\n",
    "        if self._k < len(self._seq):\n",
    "            return(self._seq[self._k]) # return the data element\n",
    "        else:\n",
    "            raise StopIteration() # there are no more elements\n",
    "\n",
    "    def __iter__ (self):\n",
    "        return self\n",
    "    \n",
    "# SequenceIterator sınıfını kullanma örneği\n",
    "seq = [1, 2, 3, 4]\n",
    "iterator = SequenceIterator(seq)  # Iterator nesnesi oluşturma\n",
    "\n",
    "# Manuel olarak __next__ metodunu çağırarak elemanları almak\n",
    "print(next(iterator))  # 1 ÖNEMLİİİİİİİİİİİİİİİİİİİİİİİİ\n",
    "print(iterator.__next__())  # 2\n",
    "print(iterator.__next__())  # 3\n",
    "print(iterator.__next__())  # 4\n",
    "\n",
    "iterator.init(seq)\n",
    "# Manuel olarak __next__ metodunu çağırarak elemanları almak\n",
    "print(iterator.__next__())  # 1\n",
    "print(iterator.__next__())  # 2\n",
    "print(iterator.__next__())  # 3\n",
    "print(iterator.__next__())  # 4"
   ]
  },
  {
   "cell_type": "markdown",
   "metadata": {},
   "source": [
    "### Range with value speed test"
   ]
  },
  {
   "cell_type": "code",
   "execution_count": 7,
   "metadata": {},
   "outputs": [
    {
     "name": "stdout",
     "output_type": "stream",
     "text": [
      "4.026655197143555\n"
     ]
    }
   ],
   "source": [
    "import time\n",
    "\n",
    "start_time = time.time()\n",
    "\n",
    "for k in range(100000000):\n",
    "    a = 2\n",
    "\n",
    "end_time = time.time()\n",
    "print(f\"{end_time - start_time}\")"
   ]
  },
  {
   "cell_type": "markdown",
   "metadata": {},
   "source": [
    "### Range with list speed test"
   ]
  },
  {
   "cell_type": "code",
   "execution_count": 8,
   "metadata": {},
   "outputs": [
    {
     "name": "stdout",
     "output_type": "stream",
     "text": [
      "3.0238418579101562\n"
     ]
    }
   ],
   "source": [
    "import time\n",
    "\n",
    "my_list = []\n",
    "for i in range(100000000):\n",
    "    my_list.append(i)\n",
    "\n",
    "start_time = time.time()\n",
    "\n",
    "for k in my_list:\n",
    "    a = 2\n",
    "\n",
    "end_time = time.time()\n",
    "print(f\"{end_time - start_time}\")"
   ]
  },
  {
   "cell_type": "markdown",
   "metadata": {},
   "source": [
    "### Range with dict speed test"
   ]
  },
  {
   "cell_type": "code",
   "execution_count": 9,
   "metadata": {},
   "outputs": [
    {
     "name": "stdout",
     "output_type": "stream",
     "text": [
      "0.0\n"
     ]
    }
   ],
   "source": [
    "my_dict = {}\n",
    "\n",
    "for i in range(100000000):\n",
    "    my_dict[\"i\"] = i\n",
    "\n",
    "start_time = time.time()\n",
    "\n",
    "for k in my_dict:\n",
    "    a = 2\n",
    "\n",
    "end_time = time.time()\n",
    "print(f\"{end_time - start_time}\")"
   ]
  },
  {
   "cell_type": "markdown",
   "metadata": {},
   "source": [
    "## 2.4 Inheritance"
   ]
  },
  {
   "cell_type": "markdown",
   "metadata": {},
   "source": [
    "<img src = \"hierarchy.png\"/>"
   ]
  },
  {
   "cell_type": "markdown",
   "metadata": {},
   "source": [
    "<img src = \"exceptions_hieararchy.png\"/>"
   ]
  },
  {
   "cell_type": "code",
   "execution_count": 10,
   "metadata": {},
   "outputs": [
    {
     "name": "stdout",
     "output_type": "stream",
     "text": [
      "True\n",
      "200\n",
      "False\n",
      "205\n",
      "1.006627966804368\n"
     ]
    }
   ],
   "source": [
    "class CreditCard:\n",
    "# A consumer credit card.\n",
    "\n",
    "    def __init__(self, customer, bank, acnt, limit):\n",
    "        # Create a new credit card instance.\n",
    "        # The initial balance is zero.\n",
    "\n",
    "        # customer the name of the customer (e.g., John Bowman )\n",
    "        # bank the name of the bank (e.g., California Savings )\n",
    "        # acnt the acount identifier (e.g., 5391 0375 9387 5309 )\n",
    "        # limit credit limit (measured in dollars)\n",
    "\n",
    "        self._customer = customer\n",
    "        self._bank = bank\n",
    "        self._account = acnt\n",
    "        self._limit = limit\n",
    "        self._balance = 0\n",
    "\n",
    "    def get_customer(self):\n",
    "    # Return name of the customer.\n",
    "        return self._customer\n",
    "\n",
    "    def get_bank(self):\n",
    "    # Return the bank s name.\n",
    "        return self._bank\n",
    "\n",
    "    def get_account(self):\n",
    "    #Return the card identifying number (typically stored as a string).\n",
    "        return self._account\n",
    "\n",
    "    def get_limit(self):\n",
    "    # Return current credit limit.\n",
    "        return self._limit\n",
    "\n",
    "    def get_balance(self):\n",
    "    # Return current balance.\n",
    "        return self._balance\n",
    "    \n",
    "    def charge(self, price):\n",
    "    # Charge given price to the card, assuming sufficient credit limit.\n",
    "    # Return True if charge was processed; False if charge was denied.\n",
    "        if price + self._balance > self._limit: # if charge would exceed limit,\n",
    "            return False # cannot accept charge\n",
    "        else:\n",
    "            self._balance += price\n",
    "            return True\n",
    "        \n",
    "    def make_payment(self, amount):\n",
    "    #Process customer payment that reduces balance.\n",
    "        self._balance -= amount\n",
    "\n",
    "\"\"\"\n",
    "OVERRIDE\n",
    "\"\"\"\n",
    "\n",
    "\n",
    "class PredatoryCreditCard(CreditCard):\n",
    "\n",
    "    def __init__(self, customer, bank, acnt, limit, apr):\n",
    "        super().__init__(customer, bank, acnt, limit) # call super constructor CREDIT CARD INIT METHOD\n",
    "        self._apr = apr\n",
    "\n",
    "    def charge(self, price):\n",
    "        success = super().charge(price) # call inherited method\n",
    "        if not success: #### ÖNEMLİİİİİİİİİİİİİİİİ\n",
    "            self._balance += 5 # assess penalty\n",
    "        return success # caller expects return value\n",
    "\n",
    "    def process_month(self):\n",
    "        if self._balance > 0:\n",
    "    # if positive balance, convert APR to monthly multiplicative factor\n",
    "            monthly_factor = pow(1 + self._apr, 1/12)\n",
    "            self._balance = monthly_factor\n",
    "\n",
    "pred_card = PredatoryCreditCard('John Doe', 'Bank of Python', '1234 5678 9012 3456', 1000, 0.0825)\n",
    "\n",
    "# Kartı kullanarak bazı işlemler yapalım:\n",
    "print(pred_card.charge(200))  # 200 birimlik bir işlem\n",
    "print(pred_card.get_balance())  # 200 olmalıdır\n",
    "\n",
    "print(pred_card.charge(1000))  # 1000 birimlik bir işlem, başarısız olmalı çünkü limit aşılacak\n",
    "print(pred_card.get_balance())  # 205 olmalı (200 + 5 ceza)\n",
    "\n",
    "# Aylık işlemleri işlemeye çalışalım\n",
    "pred_card.process_month()\n",
    "print(pred_card.get_balance())  # Yeni bakiyeyi alın"
   ]
  },
  {
   "cell_type": "markdown",
   "metadata": {},
   "source": [
    "### An Example for Inheritance."
   ]
  },
  {
   "cell_type": "markdown",
   "metadata": {},
   "source": [
    "<img src = \"hiyerarşi.png\"/>"
   ]
  },
  {
   "cell_type": "code",
   "execution_count": 18,
   "metadata": {},
   "outputs": [
    {
     "name": "stdout",
     "output_type": "stream",
     "text": [
      "Default progression:\n",
      "0 1 2 3 4 5 6 7 8 9\n",
      " Arithmetic progression with increment 5:\n",
      "0 5 10 15 20 25 30 35 40 45\n",
      "Arithmetic progression with increment 5 and start 2:\n",
      "2 7 12 17 22 27 32 37 42 47\n",
      "Geometric progression with default base:\n",
      "1 2 2 2 2 2 2 2 2 2\n",
      "Geometric progression with base 3:\n",
      "1 3 3 3 3 3 3 3 3 3\n",
      "Fibonacci progression with default start values:\n",
      "0 1 1 2 3 5 8 13 21 34\n",
      " Fibonacci progression with start values 4 and 6:\n",
      "4 6 10 16 26 42 68 110 178 288\n"
     ]
    }
   ],
   "source": [
    "class Progression:\n",
    "\n",
    "    def __init__ (self, start=0):\n",
    "\n",
    "        self._current = start\n",
    "\n",
    "    def _advance(self):\n",
    "\n",
    "        self._current += 1\n",
    "\n",
    "    def __next__ (self):\n",
    "\n",
    "        if self._current is None: # our convention to end a progression\n",
    "            raise StopIteration()\n",
    "    \n",
    "        else:\n",
    "            answer = self._current # record current value to return\n",
    "            self._advance( ) # advance to prepare for next time\n",
    "            return answer # return the answer\n",
    "\n",
    "    def __iter__ (self):\n",
    "\n",
    "        return self\n",
    "\n",
    "    def print_progression(self, n):\n",
    "\n",
    "        print(\" \".join(str(next(self)) for j in range(n)))\n",
    "\n",
    "\n",
    "class ArithmeticProgression(Progression): # inherit from Progression\n",
    "\n",
    "    def __init__ (self, increment=1, start=0):\n",
    "\n",
    "        super().__init__ (start) # initialize base class\n",
    "        self._increment = increment\n",
    "\n",
    "    def _advance(self): # override inherited version\n",
    "\n",
    "        self._current += self._increment\n",
    "\n",
    "\n",
    "class GeometricProgression(Progression): # inherit from Progression\n",
    "\n",
    "    def __init__ (self, base=2, start=1):\n",
    "        super().__init__ (start)\n",
    "        self._base = base\n",
    "        \n",
    "    def _advance(self): # override inherited version\n",
    "\n",
    "        self._current = self._base\n",
    "\n",
    "\n",
    "class FibonacciProgression(Progression):\n",
    "    def __init__ (self, first=0, second=1):\n",
    "        super().__init__ (first) # start progression at first\n",
    "        self._prev = second  - first # fictitious value preceding the first\n",
    "\n",
    "    def _advance(self):\n",
    "        self._prev, self._current = self._current, self._prev + self._current\n",
    "\n",
    "\n",
    "\n",
    "if __name__ == \"__main__\" :\n",
    "    print( \"Default progression:\" )\n",
    "    Progression().print_progression(10)\n",
    "    print(\" Arithmetic progression with increment 5:\" )\n",
    "    ArithmeticProgression(5).print_progression(10)\n",
    "    print( \"Arithmetic progression with increment 5 and start 2:\" )\n",
    "    ArithmeticProgression(5, 2).print_progression(10)\n",
    "    print( \"Geometric progression with default base:\" )\n",
    "    GeometricProgression().print_progression(10)\n",
    "    print( \"Geometric progression with base 3:\" )\n",
    "    GeometricProgression(3).print_progression(10)\n",
    "    print( \"Fibonacci progression with default start values:\" )\n",
    "    FibonacciProgression().print_progression(10)\n",
    "    print(\" Fibonacci progression with start values 4 and 6:\" )\n",
    "    FibonacciProgression(4, 6).print_progression(10)\n"
   ]
  },
  {
   "cell_type": "markdown",
   "metadata": {},
   "source": [
    "# 2.5 Namespaces and Object Oriented"
   ]
  },
  {
   "cell_type": "markdown",
   "metadata": {},
   "source": [
    "### A namespace is an abstraction that manages all of the identifiers that are defined in a particular scope, mapping each name to its associated value."
   ]
  },
  {
   "cell_type": "markdown",
   "metadata": {},
   "source": [
    "<img src = \"namespaces.png\"/>"
   ]
  },
  {
   "cell_type": "markdown",
   "metadata": {},
   "source": [
    "### How Entries Are Established in a Namespace ?"
   ]
  },
  {
   "cell_type": "markdown",
   "metadata": {},
   "source": [
    "<img src = \"namespaces2.png\"/>"
   ]
  },
  {
   "cell_type": "markdown",
   "metadata": {},
   "source": [
    "<img src = \"namespaces3.png\"/>"
   ]
  },
  {
   "cell_type": "markdown",
   "metadata": {},
   "source": [
    "### Advantages and Disadvantages of Nested Classes vs Inheritance\n",
    "\n",
    "#### Nested Classes\n",
    "**Advantages:**\n",
    "1. **Encapsulation**: Nested classes can access the members of their enclosing class, promoting better encapsulation and logical grouping of related classes.\n",
    "2. **Organization**: They help in organizing code more logically, especially when a class is only used by its enclosing class.\n",
    "3. **Clarity**: It can make the relationship between the nested class and its enclosing class clearer, indicating that the nested class is only relevant within the context of the enclosing class.\n",
    "\n",
    "**Disadvantages:**\n",
    "1. **Complexity**: It can increase the complexity of the code by introducing additional layers.\n",
    "2. **Tight Coupling**: Nested classes are tightly coupled with their enclosing classes, making it harder to reuse the nested class independently.\n",
    "3. **Limited Scope**: The scope of nested classes is limited to the enclosing class, which may not be desirable in all situations.\n",
    "\n",
    "#### Inheritance\n",
    "**Advantages:**\n",
    "1. **Reusability**: Inheritance promotes code reusability by allowing new classes to inherit existing functionality from base classes.\n",
    "2. **Extensibility**: It makes it easier to extend the functionality of existing classes by creating subclasses.\n",
    "3. **Polymorphism**: It supports polymorphism, enabling one interface to be used for a general class of actions.\n",
    "\n",
    "**Disadvantages:**\n",
    "1. **Complex Hierarchies**: It can lead to complex and deep inheritance hierarchies, which can be hard to understand and maintain.\n",
    "2. **Fragility**: Changes in a base class can inadvertently affect all derived classes, leading to potential bugs.\n",
    "3. **Overhead**: Inheritance can introduce overhead, as it requires additional understanding of the parent class, especially in deep inheritance chains.\n",
    "\n",
    "### In summary, nested classes offer better encapsulation and organization but can lead to tight coupling and complexity. Inheritance, on the other hand, promotes reusability and extensibility but can result in complex hierarchies and potential fragility in the code. The choice between using nested classes and inheritance depends on the specific needs and design goals of the software. \n",
    "\n"
   ]
  },
  {
   "cell_type": "markdown",
   "metadata": {},
   "source": [
    "<img src = \"slot.png\"/>"
   ]
  },
  {
   "cell_type": "markdown",
   "metadata": {},
   "source": [
    "### Advantages of Using `__slots__`\n",
    "1. **Memory Efficiency**: `__slots__` reduces the memory usage of class instances because it eliminates the need for a dictionary to store instance attributes.\n",
    "2. **Faster Attribute Access**: Attribute access and assignments can be slightly faster because Python stores attributes directly in a fixed location in memory.\n",
    "3. **Restricted Attributes**: `__slots__` enforces that a class can only have specific attributes, which can reduce the likelihood of errors."
   ]
  },
  {
   "cell_type": "markdown",
   "metadata": {},
   "source": [
    "<img src = \"slot2.png\"/>"
   ]
  },
  {
   "cell_type": "markdown",
   "metadata": {},
   "source": [
    "\n",
    "1. The instance namespace is searched; if the desired name is found, its associated value is used.\n",
    "2. Otherwise, the class namespace of the instance is searched; if the name is found, its associated value is used.\n",
    "3. If the name is not found in the immediate class namespace, the search continues upward through the inheritance hierarchy, checking each ancestor's class namespace. The first time the name is found, its associated value is used.\n",
    "4. If the name is still not found, an `AttributeError` is raised.\n",
    "\n",
    "For example, assume `mycard` identifies an instance of the `PredatoryCreditCard` class. Consider these usage patterns:\n",
    "- `mycard.balance`: The `balance` is found within the instance namespace.\n",
    "- `mycard.process_month()`: The search begins in the instance namespace, but the name is not found there, so the `PredatoryCreditCard` class namespace is searched, the name is found, and the method is called.\n",
    "- `mycard.make_payment(200)`: The search fails in the instance and `PredatoryCreditCard` namespaces. The name is resolved in the `CreditCard` superclass namespace, and the inherited method is called.\n",
    "- `mycard.charge(50)`: The search fails in the instance namespace, and the `PredatoryCreditCard` class namespace is checked next. The `charge` function is found there and called.\n",
    "\n",
    "In the last case, the existence of a `charge` function in the `PredatoryCreditCard` class overrides the version in the `CreditCard` namespace. Python uses dynamic dispatch (or dynamic binding) to determine, at run-time, which implementation of a function to call based on the object's type. This contrasts with static dispatch used by some languages, which make a compile-time decision on which function version to call based on the declared type of a variable."
   ]
  },
  {
   "cell_type": "markdown",
   "metadata": {},
   "source": [
    "### An Example for LEGB Rule"
   ]
  },
  {
   "cell_type": "markdown",
   "metadata": {},
   "source": [
    "<img src = \"legbrule.png\"/>"
   ]
  },
  {
   "cell_type": "code",
   "execution_count": 2,
   "metadata": {},
   "outputs": [
    {
     "name": "stdout",
     "output_type": "stream",
     "text": [
      "7\n",
      "local x\n",
      "enclosing x\n",
      "global x\n"
     ]
    }
   ],
   "source": [
    "# Built-in scope: Python'un yerleşik fonksiyonları ve isimleri burada tanımlıdır.\n",
    "# Örneğin, len() fonksiyonu\n",
    "print(len(\"Merhaba\"))  # Bu, yerleşik (built-in) len() fonksiyonunu kullanır.\n",
    "\n",
    "# Global scope: Modül seviyesinde tanımlanan isimler burada saklanır.\n",
    "x = \"global x\"\n",
    "\n",
    "def outer_function():\n",
    "    # Enclosing scope: İç içe fonksiyonlarda, en kapsayıcı fonksiyonun lokal değişkenlerinin saklandığı yerdir.\n",
    "    x = \"enclosing x\"\n",
    "    \n",
    "    def inner_function():\n",
    "        # Local scope: Bu fonksiyonun içindeki yerel değişkenler burada saklanır.\n",
    "        x = \"local x\"\n",
    "        print(x)  # \"local x\" yazdırır, çünkü en içteki lokal scope'tan başlar.\n",
    "    \n",
    "    inner_function()\n",
    "    print(x)  # \"enclosing x\" yazdırır, çünkü enclosing scope burasıdır.\n",
    "\n",
    "outer_function()\n",
    "print(x)  # \"global x\" yazdırır, global scope burasıdır."
   ]
  },
  {
   "cell_type": "markdown",
   "metadata": {},
   "source": [
    "# 2.6 Shallow and Deep Copying"
   ]
  },
  {
   "cell_type": "code",
   "execution_count": 1,
   "metadata": {},
   "outputs": [],
   "source": [
    "tones = ['red','green','blue','yellow']\n",
    "palet = tones"
   ]
  },
  {
   "cell_type": "code",
   "execution_count": 3,
   "metadata": {},
   "outputs": [
    {
     "name": "stdout",
     "output_type": "stream",
     "text": [
      "['red', 'green', 'blue', 'yellow']\n",
      "['blue', 'green', 'blue', 'yellow']\n"
     ]
    }
   ],
   "source": [
    "print(palet)\n",
    "palet[0] = \"blue\"\n",
    "\n",
    "print(tones) # mutable"
   ]
  },
  {
   "cell_type": "code",
   "execution_count": 7,
   "metadata": {},
   "outputs": [
    {
     "name": "stdout",
     "output_type": "stream",
     "text": [
      "['red', 'green', 'blue', 'yellow']\n"
     ]
    }
   ],
   "source": [
    "tones = ['red','green','blue','yellow']\n",
    "palet = list(tones) # Defining NEW LIST\n",
    "\n",
    "print(palet)"
   ]
  },
  {
   "cell_type": "code",
   "execution_count": 5,
   "metadata": {},
   "outputs": [
    {
     "name": "stdout",
     "output_type": "stream",
     "text": [
      "['red', 'green', 'blue', 'yellow']\n",
      "['red', 'green', 'blue', 'yellow']\n"
     ]
    }
   ],
   "source": [
    "print(palet)\n",
    "palet[0] = \"blue\"\n",
    "\n",
    "print(tones) "
   ]
  },
  {
   "cell_type": "markdown",
   "metadata": {},
   "source": [
    "### 1. Shallow Copy:\n",
    "Shallow copy in Python creates a new object but inserts references into it to the objects found in the original. It copies the top-level structure of the object and references nested objects. Therefore, changes made to the original object may affect the copied object as well, especially when dealing with nested data structures.\n",
    "\n",
    "### 2. Deepcopy:\n",
    "Deepcopy, on the other hand, creates a new object and recursively copies all objects found in the original. It constructs a completely independent copy of the original object and all its nested objects. Consequently, modifications to the original object do not affect the copied object, ensuring deep isolation between the two."
   ]
  },
  {
   "cell_type": "code",
   "execution_count": 6,
   "metadata": {},
   "outputs": [
    {
     "name": "stdout",
     "output_type": "stream",
     "text": [
      "Original List: [['a', 2, 3], [4, 5, 6]]\n",
      "Shallow Copied List: [['a', 2, 3], [4, 5, 6]]\n"
     ]
    }
   ],
   "source": [
    "import copy\n",
    "\n",
    "# Create a list\n",
    "original_list = [[1, 2, 3], [4, 5, 6]]\n",
    "\n",
    "# Perform shallow copy\n",
    "shallow_copied_list = copy.copy(original_list)\n",
    "\n",
    "# Modify the original list\n",
    "original_list[0][0] = 'a'\n",
    "\n",
    "# Print both lists\n",
    "print(\"Original List:\", original_list)\n",
    "print(\"Shallow Copied List:\", shallow_copied_list)\n"
   ]
  },
  {
   "cell_type": "markdown",
   "metadata": {},
   "source": [
    "### Original list can be stored with deep copy."
   ]
  },
  {
   "cell_type": "code",
   "execution_count": 8,
   "metadata": {},
   "outputs": [
    {
     "name": "stdout",
     "output_type": "stream",
     "text": [
      "Original List: [['a', 2, 3], [4, 5, 6]]\n",
      "Deep Copied List: [[1, 2, 3], [4, 5, 6]]\n"
     ]
    }
   ],
   "source": [
    "import copy\n",
    "\n",
    "# Create a list\n",
    "original_list = [[1, 2, 3], [4, 5, 6]]\n",
    "\n",
    "# Perform deepcopy\n",
    "deep_copied_list = copy.deepcopy(original_list)\n",
    "\n",
    "# Modify the original list\n",
    "original_list[0][0] = 'a'\n",
    "\n",
    "# Print both lists\n",
    "print(\"Original List:\", original_list)\n",
    "print(\"Deep Copied List:\", deep_copied_list)\n"
   ]
  }
 ],
 "metadata": {
  "kernelspec": {
   "display_name": "Python 3",
   "language": "python",
   "name": "python3"
  },
  "language_info": {
   "codemirror_mode": {
    "name": "ipython",
    "version": 3
   },
   "file_extension": ".py",
   "mimetype": "text/x-python",
   "name": "python",
   "nbconvert_exporter": "python",
   "pygments_lexer": "ipython3",
   "version": "3.12.3"
  }
 },
 "nbformat": 4,
 "nbformat_minor": 2
}
